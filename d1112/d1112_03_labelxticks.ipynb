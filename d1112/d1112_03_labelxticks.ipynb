{
 "cells": [
  {
   "cell_type": "code",
   "execution_count": 1,
   "metadata": {},
   "outputs": [],
   "source": [
    "import matplotlib.pyplot as plt\n",
    "#한글설정\n",
    "import matplotlib\n",
    "matplotlib.rcParams['font.family'] = 'Malgun Gothic' #win 용\n",
    "matplotlib.rcParams['font.size'] = 15 # 글자크기\n",
    "matplotlib.rcParams['axes.unicode_minus'] = False # 마이너스"
   ]
  },
  {
   "cell_type": "code",
   "execution_count": 1,
   "metadata": {},
   "outputs": [
    {
     "ename": "SyntaxError",
     "evalue": "invalid syntax. Perhaps you forgot a comma? (696140096.py, line 8)",
     "output_type": "error",
     "traceback": [
      "\u001b[1;36m  Cell \u001b[1;32mIn[1], line 8\u001b[1;36m\u001b[0m\n\u001b[1;33m    plt.title(\"라인그래프 LINE\"size =30) # 글자크기\u001b[0m\n\u001b[1;37m              ^\u001b[0m\n\u001b[1;31mSyntaxError\u001b[0m\u001b[1;31m:\u001b[0m invalid syntax. Perhaps you forgot a comma?\n"
     ]
    }
   ],
   "source": [
    "#x,y축 데이터\n",
    "x = [1,2,3]  #리스트,튜플,DataFrame 데이터 - 리스트형태,series\n",
    "y= [2,4,8]\n",
    "\n",
    "#선그래프 생성\n",
    "plt.plot(x,y)\n",
    "# 상단타이틀\n",
    "plt.title(\"라인그래프 LINE\"size =30) # 글자크기\n",
    " # 그래프 X축 설명, color 글자색변경//색상값,,16코드 , loc 글자위치\n",
    "plt.xlabel('X축 날짜',color='red',loc='right') #left,right, center\n",
    "plt.ylabel('Y축 인원',loc='top') # 그래프 Y축 설명 top,bottom, center\n",
    "\n",
    "##r그래프 눈금 단위 표시\n",
    "plt.xticks([1,2,3,4,5])\n",
    "plt.yticks([2,4,8])\n",
    "\n",
    "plt.show()"
   ]
  }
 ],
 "metadata": {
  "kernelspec": {
   "display_name": "Python 3",
   "language": "python",
   "name": "python3"
  },
  "language_info": {
   "codemirror_mode": {
    "name": "ipython",
    "version": 3
   },
   "file_extension": ".py",
   "mimetype": "text/x-python",
   "name": "python",
   "nbconvert_exporter": "python",
   "pygments_lexer": "ipython3",
   "version": "3.12.6"
  }
 },
 "nbformat": 4,
 "nbformat_minor": 2
}
