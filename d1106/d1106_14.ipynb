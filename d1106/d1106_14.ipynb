{
 "cells": [
  {
   "cell_type": "markdown",
   "metadata": {},
   "source": [
    "[ 영화순위 ]\n",
    "1. 2020년~2023년 영화 내용을 저장하시오.\n",
    "- csv파일로 저장\n",
    "- 이미지 저장\n",
    "- 제목\n",
    "- 관객수 : 숫자입력\n",
    "1,312 -> 1312\n",
    "- 날짜\n",
    "2. DataFrame 변경\n",
    "관객수\n",
    "-> 최대값\n",
    "-> 최소값\n",
    "-> 평균\n",
    "-> 최대관객수 5개\n",
    "-> 최소관객수 5개를\n",
    "출력하시오."
   ]
  },
  {
   "cell_type": "code",
   "execution_count": null,
   "metadata": {},
   "outputs": [],
   "source": [
    "import pandas as pd\n",
    "import time\n",
    "import requests\n",
    "from bs4 import BeautifulSoup\n",
    "import csv\n",
    "from selenium import webdriver\n",
    "from selenium.webdriver.common.by import By\n",
    "from selenium.webdriver.common.keys import Keys\n",
    "for i in range(2020,2024):\n",
    "  url = \"https://search.daum.net/search?w=tot&q=2023%EB%85%84%EC%98%81%ED%99%94%EC%88%9C%EC%9C%84&DA=MOR&rtmaxcoll=MOR\"\n",
    "  browser = webdriver.Chrome()\n",
    "  # 이동하려는 주소 입력\n",
    "  browser.get(url)\n",
    "  time.sleep(3)\n",
    "  soup = BeautifulSoup(browser.page_source,\"lxml\")\n",
    "   # 파일 저장하기\n",
    "  with open(f'movies{i+1}.csv','w',encoding='utf-8') as f:\n",
    "    f.write(soup.prettify())\n"
   ]
  }
 ],
 "metadata": {
  "kernelspec": {
   "display_name": "Python 3",
   "language": "python",
   "name": "python3"
  },
  "language_info": {
   "codemirror_mode": {
    "name": "ipython",
    "version": 3
   },
   "file_extension": ".py",
   "mimetype": "text/x-python",
   "name": "python",
   "nbconvert_exporter": "python",
   "pygments_lexer": "ipython3",
   "version": "3.12.6"
  }
 },
 "nbformat": 4,
 "nbformat_minor": 2
}
