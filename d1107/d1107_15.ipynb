{
 "cells": [
  {
   "cell_type": "code",
   "execution_count": 84,
   "metadata": {},
   "outputs": [],
   "source": [
    "import pandas as pd\n",
    "import numpy as np\n",
    "# df = pd.read_excel('score.xlsx',index_col='지원번호')\n",
    "# df"
   ]
  },
  {
   "cell_type": "code",
   "execution_count": 85,
   "metadata": {},
   "outputs": [
    {
     "data": {
      "text/plain": [
       "0~4세         678,966\n",
       "5~9세       1,019,087\n",
       "10~14세     1,195,436\n",
       "15~19세     1,195,498\n",
       "20~24세     1,446,090\n",
       "25~29세     1,777,534\n",
       "30~34세     1,788,146\n",
       "35~39세     1,629,589\n",
       "40~44세     2,055,022\n",
       "45~49세     1,965,092\n",
       "50~54세     2,279,578\n",
       "55~59세     2,115,365\n",
       "60~64세     2,093,694\n",
       "65~69세     1,670,380\n",
       "70~74세     1,066,316\n",
       "75~79세       760,968\n",
       "80~84세       519,583\n",
       "85~89세       231,644\n",
       "90~94세        59,761\n",
       "95~99세         9,722\n",
       "100세 이상        1,473\n",
       "Name: 전국, dtype: object"
      ]
     },
     "execution_count": 85,
     "metadata": {},
     "output_type": "execute_result"
    }
   ],
   "source": [
    "df = pd.read_excel('연령별인구현황01.xlsx',index_col=\"행정기관\",skiprows=3,nrows=1,usecols='B,E:Y')\n",
    "#df.loc['전국']\n",
    "df.index\n",
    "df.loc['전국  '] \n",
    "#빈공백제거 \n",
    "df.index[0].strip()\n",
    "#\n",
    "df.loc[df.index[0]] # df.loc['전국  ']\n",
    "\n",
    "#index 이름 변경\n",
    "df.rename(index={df.index[0]:df.index[0].strip()},inplace=True)\n",
    "df.index\n",
    "df.loc['전국']"
   ]
  },
  {
   "cell_type": "code",
   "execution_count": 86,
   "metadata": {},
   "outputs": [
    {
     "data": {
      "text/html": [
       "<div>\n",
       "<style scoped>\n",
       "    .dataframe tbody tr th:only-of-type {\n",
       "        vertical-align: middle;\n",
       "    }\n",
       "\n",
       "    .dataframe tbody tr th {\n",
       "        vertical-align: top;\n",
       "    }\n",
       "\n",
       "    .dataframe thead th {\n",
       "        text-align: right;\n",
       "    }\n",
       "</style>\n",
       "<table border=\"1\" class=\"dataframe\">\n",
       "  <thead>\n",
       "    <tr style=\"text-align: right;\">\n",
       "      <th></th>\n",
       "      <th>0~4세</th>\n",
       "      <th>5~9세</th>\n",
       "      <th>10~14세</th>\n",
       "      <th>15~19세</th>\n",
       "      <th>20~24세</th>\n",
       "      <th>25~29세</th>\n",
       "      <th>30~34세</th>\n",
       "      <th>35~39세</th>\n",
       "      <th>40~44세</th>\n",
       "      <th>45~49세</th>\n",
       "      <th>...</th>\n",
       "      <th>55~59세</th>\n",
       "      <th>60~64세</th>\n",
       "      <th>65~69세</th>\n",
       "      <th>70~74세</th>\n",
       "      <th>75~79세</th>\n",
       "      <th>80~84세</th>\n",
       "      <th>85~89세</th>\n",
       "      <th>90~94세</th>\n",
       "      <th>95~99세</th>\n",
       "      <th>100세 이상</th>\n",
       "    </tr>\n",
       "    <tr>\n",
       "      <th>행정기관</th>\n",
       "      <th></th>\n",
       "      <th></th>\n",
       "      <th></th>\n",
       "      <th></th>\n",
       "      <th></th>\n",
       "      <th></th>\n",
       "      <th></th>\n",
       "      <th></th>\n",
       "      <th></th>\n",
       "      <th></th>\n",
       "      <th></th>\n",
       "      <th></th>\n",
       "      <th></th>\n",
       "      <th></th>\n",
       "      <th></th>\n",
       "      <th></th>\n",
       "      <th></th>\n",
       "      <th></th>\n",
       "      <th></th>\n",
       "      <th></th>\n",
       "      <th></th>\n",
       "    </tr>\n",
       "  </thead>\n",
       "  <tbody>\n",
       "    <tr>\n",
       "      <th>전국</th>\n",
       "      <td>678,966</td>\n",
       "      <td>1,019,087</td>\n",
       "      <td>1,195,436</td>\n",
       "      <td>1,195,498</td>\n",
       "      <td>1,446,090</td>\n",
       "      <td>1,777,534</td>\n",
       "      <td>1,788,146</td>\n",
       "      <td>1,629,589</td>\n",
       "      <td>2,055,022</td>\n",
       "      <td>1,965,092</td>\n",
       "      <td>...</td>\n",
       "      <td>2,115,365</td>\n",
       "      <td>2,093,694</td>\n",
       "      <td>1,670,380</td>\n",
       "      <td>1,066,316</td>\n",
       "      <td>760,968</td>\n",
       "      <td>519,583</td>\n",
       "      <td>231,644</td>\n",
       "      <td>59,761</td>\n",
       "      <td>9,722</td>\n",
       "      <td>1,473</td>\n",
       "    </tr>\n",
       "  </tbody>\n",
       "</table>\n",
       "<p>1 rows × 21 columns</p>\n",
       "</div>"
      ],
      "text/plain": [
       "         0~4세       5~9세     10~14세     15~19세     20~24세     25~29세  \\\n",
       "행정기관                                                                   \n",
       "전국    678,966  1,019,087  1,195,436  1,195,498  1,446,090  1,777,534   \n",
       "\n",
       "         30~34세     35~39세     40~44세     45~49세  ...     55~59세     60~64세  \\\n",
       "행정기관                                              ...                         \n",
       "전국    1,788,146  1,629,589  2,055,022  1,965,092  ...  2,115,365  2,093,694   \n",
       "\n",
       "         65~69세     70~74세   75~79세   80~84세   85~89세  90~94세 95~99세 100세 이상  \n",
       "행정기관                                                                          \n",
       "전국    1,670,380  1,066,316  760,968  519,583  231,644  59,761  9,722   1,473  \n",
       "\n",
       "[1 rows x 21 columns]"
      ]
     },
     "execution_count": 86,
     "metadata": {},
     "output_type": "execute_result"
    }
   ],
   "source": [
    "df"
   ]
  },
  {
   "cell_type": "code",
   "execution_count": 87,
   "metadata": {},
   "outputs": [
    {
     "data": {
      "text/plain": [
       "0~4세        678966\n",
       "5~9세       1019087\n",
       "10~14세     1195436\n",
       "15~19세     1195498\n",
       "20~24세     1446090\n",
       "25~29세     1777534\n",
       "30~34세     1788146\n",
       "35~39세     1629589\n",
       "40~44세     2055022\n",
       "45~49세     1965092\n",
       "50~54세     2279578\n",
       "55~59세     2115365\n",
       "60~64세     2093694\n",
       "65~69세     1670380\n",
       "70~74세     1066316\n",
       "75~79세      760968\n",
       "80~84세      519583\n",
       "85~89세      231644\n",
       "90~94세       59761\n",
       "95~99세        9722\n",
       "100세 이상       1473\n",
       "Name: 전국, dtype: int64"
      ]
     },
     "execution_count": 87,
     "metadata": {},
     "output_type": "execute_result"
    }
   ],
   "source": [
    "df.loc['전국'].str.replace(\",\",\"\").astype(int)\n"
   ]
  },
  {
   "cell_type": "code",
   "execution_count": 88,
   "metadata": {},
   "outputs": [
    {
     "data": {
      "text/html": [
       "<div>\n",
       "<style scoped>\n",
       "    .dataframe tbody tr th:only-of-type {\n",
       "        vertical-align: middle;\n",
       "    }\n",
       "\n",
       "    .dataframe tbody tr th {\n",
       "        vertical-align: top;\n",
       "    }\n",
       "\n",
       "    .dataframe thead th {\n",
       "        text-align: right;\n",
       "    }\n",
       "</style>\n",
       "<table border=\"1\" class=\"dataframe\">\n",
       "  <thead>\n",
       "    <tr style=\"text-align: right;\">\n",
       "      <th>행정기관</th>\n",
       "      <th>전국</th>\n",
       "    </tr>\n",
       "  </thead>\n",
       "  <tbody>\n",
       "    <tr>\n",
       "      <th>0~4세</th>\n",
       "      <td>678,966</td>\n",
       "    </tr>\n",
       "    <tr>\n",
       "      <th>5~9세</th>\n",
       "      <td>1,019,087</td>\n",
       "    </tr>\n",
       "    <tr>\n",
       "      <th>10~14세</th>\n",
       "      <td>1,195,436</td>\n",
       "    </tr>\n",
       "    <tr>\n",
       "      <th>15~19세</th>\n",
       "      <td>1,195,498</td>\n",
       "    </tr>\n",
       "    <tr>\n",
       "      <th>20~24세</th>\n",
       "      <td>1,446,090</td>\n",
       "    </tr>\n",
       "    <tr>\n",
       "      <th>25~29세</th>\n",
       "      <td>1,777,534</td>\n",
       "    </tr>\n",
       "    <tr>\n",
       "      <th>30~34세</th>\n",
       "      <td>1,788,146</td>\n",
       "    </tr>\n",
       "    <tr>\n",
       "      <th>35~39세</th>\n",
       "      <td>1,629,589</td>\n",
       "    </tr>\n",
       "    <tr>\n",
       "      <th>40~44세</th>\n",
       "      <td>2,055,022</td>\n",
       "    </tr>\n",
       "    <tr>\n",
       "      <th>45~49세</th>\n",
       "      <td>1,965,092</td>\n",
       "    </tr>\n",
       "    <tr>\n",
       "      <th>50~54세</th>\n",
       "      <td>2,279,578</td>\n",
       "    </tr>\n",
       "    <tr>\n",
       "      <th>55~59세</th>\n",
       "      <td>2,115,365</td>\n",
       "    </tr>\n",
       "    <tr>\n",
       "      <th>60~64세</th>\n",
       "      <td>2,093,694</td>\n",
       "    </tr>\n",
       "    <tr>\n",
       "      <th>65~69세</th>\n",
       "      <td>1,670,380</td>\n",
       "    </tr>\n",
       "    <tr>\n",
       "      <th>70~74세</th>\n",
       "      <td>1,066,316</td>\n",
       "    </tr>\n",
       "    <tr>\n",
       "      <th>75~79세</th>\n",
       "      <td>760,968</td>\n",
       "    </tr>\n",
       "    <tr>\n",
       "      <th>80~84세</th>\n",
       "      <td>519,583</td>\n",
       "    </tr>\n",
       "    <tr>\n",
       "      <th>85~89세</th>\n",
       "      <td>231,644</td>\n",
       "    </tr>\n",
       "    <tr>\n",
       "      <th>90~94세</th>\n",
       "      <td>59,761</td>\n",
       "    </tr>\n",
       "    <tr>\n",
       "      <th>95~99세</th>\n",
       "      <td>9,722</td>\n",
       "    </tr>\n",
       "    <tr>\n",
       "      <th>100세 이상</th>\n",
       "      <td>1,473</td>\n",
       "    </tr>\n",
       "  </tbody>\n",
       "</table>\n",
       "</div>"
      ],
      "text/plain": [
       "행정기관            전국\n",
       "0~4세       678,966\n",
       "5~9세     1,019,087\n",
       "10~14세   1,195,436\n",
       "15~19세   1,195,498\n",
       "20~24세   1,446,090\n",
       "25~29세   1,777,534\n",
       "30~34세   1,788,146\n",
       "35~39세   1,629,589\n",
       "40~44세   2,055,022\n",
       "45~49세   1,965,092\n",
       "50~54세   2,279,578\n",
       "55~59세   2,115,365\n",
       "60~64세   2,093,694\n",
       "65~69세   1,670,380\n",
       "70~74세   1,066,316\n",
       "75~79세     760,968\n",
       "80~84세     519,583\n",
       "85~89세     231,644\n",
       "90~94세      59,761\n",
       "95~99세       9,722\n",
       "100세 이상      1,473"
      ]
     },
     "execution_count": 88,
     "metadata": {},
     "output_type": "execute_result"
    }
   ],
   "source": [
    "df =df.T\n",
    "df\n"
   ]
  },
  {
   "cell_type": "code",
   "execution_count": 89,
   "metadata": {},
   "outputs": [],
   "source": [
    "df['전국'] = df['전국'].str.replace(\",\",\"\").astype(int)\n",
    "\n"
   ]
  },
  {
   "cell_type": "code",
   "execution_count": 90,
   "metadata": {},
   "outputs": [
    {
     "data": {
      "text/plain": [
       "np.int64(1473)"
      ]
     },
     "execution_count": 90,
     "metadata": {},
     "output_type": "execute_result"
    }
   ],
   "source": [
    "df['전국'].max()\n",
    "df['전국'].min()"
   ]
  },
  {
   "cell_type": "code",
   "execution_count": 91,
   "metadata": {},
   "outputs": [],
   "source": [
    "## 이름 변경\n",
    "## 출생아수 최대값 최소값을 출력\n",
    "## 축을변경"
   ]
  },
  {
   "cell_type": "code",
   "execution_count": 92,
   "metadata": {},
   "outputs": [
    {
     "name": "stderr",
     "output_type": "stream",
     "text": [
      "c:\\python\\Lib\\site-packages\\openpyxl\\styles\\stylesheet.py:237: UserWarning: Workbook contains no default style, apply openpyxl's default\n",
      "  warn(\"Workbook contains no default style, apply openpyxl's default\")\n"
     ]
    },
    {
     "data": {
      "text/plain": [
       "array(['출생아\\xa0수', '합계\\xa0출산율'], dtype=object)"
      ]
     },
     "execution_count": 92,
     "metadata": {},
     "output_type": "execute_result"
    }
   ],
   "source": [
    "df = pd.read_excel('출산율2.xlsx',index_col=0,skiprows=2,nrows=2)\n",
    "\n",
    "# df['2014'] #세로방향, 컬럼방향\n",
    "# df.loc['2014'] #가로방향, index방향\n",
    "# df.iloc[0] #가로방향, index방향\n",
    "\n",
    "df.index\n",
    "df.index.values\n"
   ]
  },
  {
   "cell_type": "code",
   "execution_count": 93,
   "metadata": {},
   "outputs": [
    {
     "data": {
      "text/plain": [
       "array(['출생아 수', '합계 출산율'], dtype=object)"
      ]
     },
     "execution_count": 93,
     "metadata": {},
     "output_type": "execute_result"
    }
   ],
   "source": [
    "#index 이름변경\n",
    "df.index.values\n",
    "df.rename(index={'출생아\\xa0수':'출생아 수','합계\\xa0출산율':'합계 출산율'},inplace=True)\n",
    "df.index.values"
   ]
  },
  {
   "cell_type": "code",
   "execution_count": 99,
   "metadata": {},
   "outputs": [
    {
     "data": {
      "text/html": [
       "<div>\n",
       "<style scoped>\n",
       "    .dataframe tbody tr th:only-of-type {\n",
       "        vertical-align: middle;\n",
       "    }\n",
       "\n",
       "    .dataframe tbody tr th {\n",
       "        vertical-align: top;\n",
       "    }\n",
       "\n",
       "    .dataframe thead th {\n",
       "        text-align: right;\n",
       "    }\n",
       "</style>\n",
       "<table border=\"1\" class=\"dataframe\">\n",
       "  <thead>\n",
       "    <tr style=\"text-align: right;\">\n",
       "      <th></th>\n",
       "      <th>출생아 수</th>\n",
       "      <th>합계 출산율</th>\n",
       "    </tr>\n",
       "  </thead>\n",
       "  <tbody>\n",
       "    <tr>\n",
       "      <th>2014</th>\n",
       "      <td>435.4</td>\n",
       "      <td>1.205</td>\n",
       "    </tr>\n",
       "    <tr>\n",
       "      <th>2015</th>\n",
       "      <td>438.4</td>\n",
       "      <td>1.239</td>\n",
       "    </tr>\n",
       "    <tr>\n",
       "      <th>2016</th>\n",
       "      <td>406.2</td>\n",
       "      <td>1.172</td>\n",
       "    </tr>\n",
       "    <tr>\n",
       "      <th>2017</th>\n",
       "      <td>357.8</td>\n",
       "      <td>1.052</td>\n",
       "    </tr>\n",
       "    <tr>\n",
       "      <th>2018</th>\n",
       "      <td>326.8</td>\n",
       "      <td>0.977</td>\n",
       "    </tr>\n",
       "    <tr>\n",
       "      <th>2019</th>\n",
       "      <td>302.7</td>\n",
       "      <td>0.918</td>\n",
       "    </tr>\n",
       "    <tr>\n",
       "      <th>2020</th>\n",
       "      <td>272.3</td>\n",
       "      <td>0.837</td>\n",
       "    </tr>\n",
       "    <tr>\n",
       "      <th>2021</th>\n",
       "      <td>260.6</td>\n",
       "      <td>0.808</td>\n",
       "    </tr>\n",
       "    <tr>\n",
       "      <th>2022</th>\n",
       "      <td>249.1</td>\n",
       "      <td>0.780</td>\n",
       "    </tr>\n",
       "    <tr>\n",
       "      <th>2023</th>\n",
       "      <td>230.0</td>\n",
       "      <td>0.720</td>\n",
       "    </tr>\n",
       "  </tbody>\n",
       "</table>\n",
       "</div>"
      ],
      "text/plain": [
       "      출생아 수  합계 출산율\n",
       "2014  435.4   1.205\n",
       "2015  438.4   1.239\n",
       "2016  406.2   1.172\n",
       "2017  357.8   1.052\n",
       "2018  326.8   0.977\n",
       "2019  302.7   0.918\n",
       "2020  272.3   0.837\n",
       "2021  260.6   0.808\n",
       "2022  249.1   0.780\n",
       "2023  230.0   0.720"
      ]
     },
     "execution_count": 99,
     "metadata": {},
     "output_type": "execute_result"
    }
   ],
   "source": [
    "# index와 컬럼의 축 변경\n",
    "df = df.T\n",
    "df"
   ]
  },
  {
   "cell_type": "code",
   "execution_count": 96,
   "metadata": {},
   "outputs": [
    {
     "data": {
      "text/html": [
       "<div>\n",
       "<style scoped>\n",
       "    .dataframe tbody tr th:only-of-type {\n",
       "        vertical-align: middle;\n",
       "    }\n",
       "\n",
       "    .dataframe tbody tr th {\n",
       "        vertical-align: top;\n",
       "    }\n",
       "\n",
       "    .dataframe thead th {\n",
       "        text-align: right;\n",
       "    }\n",
       "</style>\n",
       "<table border=\"1\" class=\"dataframe\">\n",
       "  <thead>\n",
       "    <tr style=\"text-align: right;\">\n",
       "      <th></th>\n",
       "      <th>출생아 수</th>\n",
       "      <th>합계 출산율</th>\n",
       "    </tr>\n",
       "  </thead>\n",
       "  <tbody>\n",
       "    <tr>\n",
       "      <th>count</th>\n",
       "      <td>10.00000</td>\n",
       "      <td>10.000000</td>\n",
       "    </tr>\n",
       "    <tr>\n",
       "      <th>mean</th>\n",
       "      <td>327.93000</td>\n",
       "      <td>0.970800</td>\n",
       "    </tr>\n",
       "    <tr>\n",
       "      <th>std</th>\n",
       "      <td>78.06133</td>\n",
       "      <td>0.188678</td>\n",
       "    </tr>\n",
       "    <tr>\n",
       "      <th>min</th>\n",
       "      <td>230.00000</td>\n",
       "      <td>0.720000</td>\n",
       "    </tr>\n",
       "    <tr>\n",
       "      <th>25%</th>\n",
       "      <td>263.52500</td>\n",
       "      <td>0.815250</td>\n",
       "    </tr>\n",
       "    <tr>\n",
       "      <th>50%</th>\n",
       "      <td>314.75000</td>\n",
       "      <td>0.947500</td>\n",
       "    </tr>\n",
       "    <tr>\n",
       "      <th>75%</th>\n",
       "      <td>394.10000</td>\n",
       "      <td>1.142000</td>\n",
       "    </tr>\n",
       "    <tr>\n",
       "      <th>max</th>\n",
       "      <td>438.40000</td>\n",
       "      <td>1.239000</td>\n",
       "    </tr>\n",
       "  </tbody>\n",
       "</table>\n",
       "</div>"
      ],
      "text/plain": [
       "           출생아 수     합계 출산율\n",
       "count   10.00000  10.000000\n",
       "mean   327.93000   0.970800\n",
       "std     78.06133   0.188678\n",
       "min    230.00000   0.720000\n",
       "25%    263.52500   0.815250\n",
       "50%    314.75000   0.947500\n",
       "75%    394.10000   1.142000\n",
       "max    438.40000   1.239000"
      ]
     },
     "execution_count": 96,
     "metadata": {},
     "output_type": "execute_result"
    }
   ],
   "source": [
    "df.describe()\n"
   ]
  },
  {
   "cell_type": "code",
   "execution_count": 97,
   "metadata": {},
   "outputs": [
    {
     "data": {
      "text/plain": [
       "np.float64(230.0)"
      ]
     },
     "execution_count": 97,
     "metadata": {},
     "output_type": "execute_result"
    }
   ],
   "source": [
    "df['출생아 수'].min()"
   ]
  },
  {
   "cell_type": "code",
   "execution_count": 100,
   "metadata": {},
   "outputs": [
    {
     "data": {
      "text/html": [
       "<div>\n",
       "<style scoped>\n",
       "    .dataframe tbody tr th:only-of-type {\n",
       "        vertical-align: middle;\n",
       "    }\n",
       "\n",
       "    .dataframe tbody tr th {\n",
       "        vertical-align: top;\n",
       "    }\n",
       "\n",
       "    .dataframe thead th {\n",
       "        text-align: right;\n",
       "    }\n",
       "</style>\n",
       "<table border=\"1\" class=\"dataframe\">\n",
       "  <thead>\n",
       "    <tr style=\"text-align: right;\">\n",
       "      <th></th>\n",
       "      <th>출생아 수</th>\n",
       "      <th>합계 출산율</th>\n",
       "    </tr>\n",
       "  </thead>\n",
       "  <tbody>\n",
       "    <tr>\n",
       "      <th>2014</th>\n",
       "      <td>435.4</td>\n",
       "      <td>1.205</td>\n",
       "    </tr>\n",
       "    <tr>\n",
       "      <th>2015</th>\n",
       "      <td>438.4</td>\n",
       "      <td>1.239</td>\n",
       "    </tr>\n",
       "    <tr>\n",
       "      <th>2016</th>\n",
       "      <td>406.2</td>\n",
       "      <td>1.172</td>\n",
       "    </tr>\n",
       "    <tr>\n",
       "      <th>2017</th>\n",
       "      <td>357.8</td>\n",
       "      <td>1.052</td>\n",
       "    </tr>\n",
       "  </tbody>\n",
       "</table>\n",
       "</div>"
      ],
      "text/plain": [
       "      출생아 수  합계 출산율\n",
       "2014  435.4   1.205\n",
       "2015  438.4   1.239\n",
       "2016  406.2   1.172\n",
       "2017  357.8   1.052"
      ]
     },
     "execution_count": 100,
     "metadata": {},
     "output_type": "execute_result"
    }
   ],
   "source": [
    "filt = (df['출생아 수'] >= 300) & (df['합계 출산율'] >=1)\n",
    "df[filt]"
   ]
  }
 ],
 "metadata": {
  "kernelspec": {
   "display_name": "Python 3",
   "language": "python",
   "name": "python3"
  },
  "language_info": {
   "codemirror_mode": {
    "name": "ipython",
    "version": 3
   },
   "file_extension": ".py",
   "mimetype": "text/x-python",
   "name": "python",
   "nbconvert_exporter": "python",
   "pygments_lexer": "ipython3",
   "version": "3.12.6"
  }
 },
 "nbformat": 4,
 "nbformat_minor": 2
}
